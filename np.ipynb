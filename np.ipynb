{
 "cells": [
  {
   "cell_type": "code",
   "execution_count": 1,
   "metadata": {},
   "outputs": [
    {
     "name": "stdout",
     "output_type": "stream",
     "text": [
      "[1 2 3 4 5 6]\n"
     ]
    }
   ],
   "source": [
    "#1D\n",
    "import numpy as np\n",
    "array1=np.array([1,2,3,4,5,6])\n",
    "print(array1)\n"
   ]
  },
  {
   "cell_type": "code",
   "execution_count": 5,
   "metadata": {},
   "outputs": [
    {
     "name": "stdout",
     "output_type": "stream",
     "text": [
      "[[1 2 3 4]\n",
      " [5 6 7 8]]\n",
      "8\n",
      "2\n",
      "int64\n",
      "8\n",
      "(2, 4)\n"
     ]
    }
   ],
   "source": [
    "#2D\n",
    "import numpy as np\n",
    "array2=np.array([(1,2,3,4),(5,6,7,8)])\n",
    "print(array2)\n",
    "print(array2.itemsize)\n",
    "print(array2.ndim)\n",
    "print(array2.dtype)\n",
    "print(array2.size)\n",
    "print(array2.shape)"
   ]
  },
  {
   "cell_type": "code",
   "execution_count": 11,
   "metadata": {},
   "outputs": [
    {
     "name": "stdout",
     "output_type": "stream",
     "text": [
      "(2, 4)\n",
      "[[1 2 3 4]\n",
      " [5 6 7 8]]\n",
      "3\n"
     ]
    }
   ],
   "source": [
    "import numpy as np\n",
    "a=np.array([(1,2,3,4),(5,6,7,8)])\n",
    "print(a.shape)\n",
    "#print(a)\n",
    "#a=a.reshape(4,2)\n",
    "print(a)\n",
    "\n",
    "print(a[0,2])\n"
   ]
  },
  {
   "cell_type": "code",
   "execution_count": 17,
   "metadata": {},
   "outputs": [
    {
     "name": "stdout",
     "output_type": "stream",
     "text": [
      "4\n",
      "[ 4  8 12]\n"
     ]
    }
   ],
   "source": [
    "import numpy as np\n",
    "a=np.array([(1,2,3,4),(5,6,7,8),(9,10,11,12)])\n",
    "print(a[0,3])\n",
    "print(a[0:,3])"
   ]
  },
  {
   "cell_type": "code",
   "execution_count": 31,
   "metadata": {},
   "outputs": [
    {
     "name": "stdout",
     "output_type": "stream",
     "text": [
      "4\n",
      "[ 4  8 12]\n",
      "[4 8]\n",
      "[ 7 11]\n"
     ]
    }
   ],
   "source": [
    "import numpy as np\n",
    "a=np.array([(1,2,3,4),(5,6,7,8),(9,10,11,12)])\n",
    "print(a[0,3])\n",
    "print(a[0:,3])\n",
    "print(a[0:2,3])\n",
    "print(a[((1,2),(2,2))])"
   ]
  },
  {
   "cell_type": "code",
   "execution_count": 35,
   "metadata": {},
   "outputs": [
    {
     "name": "stdout",
     "output_type": "stream",
     "text": [
      "[  1.           6.21052632  11.42105263  16.63157895  21.84210526\n",
      "  27.05263158  32.26315789  37.47368421  42.68421053  47.89473684\n",
      "  53.10526316  58.31578947  63.52631579  68.73684211  73.94736842\n",
      "  79.15789474  84.36842105  89.57894737  94.78947368 100.        ]\n"
     ]
    }
   ],
   "source": [
    "import numpy as np\n",
    "array1=np.linspace(1,100,20)\n",
    "print(array1)"
   ]
  },
  {
   "cell_type": "code",
   "execution_count": 38,
   "metadata": {},
   "outputs": [
    {
     "name": "stdout",
     "output_type": "stream",
     "text": [
      "[[1.         1.41421356 1.73205081 2.        ]\n",
      " [2.23606798 2.44948974 2.64575131 2.82842712]]\n",
      "2.29128784747792\n"
     ]
    }
   ],
   "source": [
    "import numpy as np\n",
    "a=np.array([(1,2,3,4),(5,6,7,8)])\n",
    "print(np.sqrt(a))\n",
    "print(np.std(a))\n",
    "#print(a)"
   ]
  },
  {
   "cell_type": "code",
   "execution_count": 42,
   "metadata": {},
   "outputs": [
    {
     "name": "stdout",
     "output_type": "stream",
     "text": [
      "8\n",
      "1\n",
      "36\n",
      "[ 6  8 10 12]\n",
      "[10 26]\n",
      "[1 2 3 4 5 6 7 8]\n"
     ]
    }
   ],
   "source": [
    "import numpy as np\n",
    "ssp=np.array([(1,2,3,4),(5,6,7,8)])\n",
    "print(ssp.max())\n",
    "print(ssp.min())\n",
    "print(ssp.sum())\n",
    "print(ssp.sum(axis=0))\n",
    "print(ssp.sum(axis=1))\n",
    "print(ssp.ravel())"
   ]
  },
  {
   "cell_type": "code",
   "execution_count": 43,
   "metadata": {},
   "outputs": [
    {
     "name": "stdout",
     "output_type": "stream",
     "text": [
      "[[ 2  4  6  8]\n",
      " [10 12 14 16]]\n",
      "[[0 0 0 0]\n",
      " [0 0 0 0]]\n",
      "[[ 1  4  9 16]\n",
      " [25 36 49 64]]\n",
      "[[1. 1. 1. 1.]\n",
      " [1. 1. 1. 1.]]\n"
     ]
    }
   ],
   "source": [
    "import numpy as np\n",
    "a=np.array([(1,2,3,4),(5,6,7,8)])\n",
    "b=np.array([(1,2,3,4),(5,6,7,8)])\n",
    "print(a+b)\n",
    "print(a-b)\n",
    "print(a*b)\n",
    "print(a/b)"
   ]
  },
  {
   "cell_type": "code",
   "execution_count": 44,
   "metadata": {},
   "outputs": [
    {
     "name": "stdout",
     "output_type": "stream",
     "text": [
      "[5, 7]\n",
      "[1, 3, 5, 7, 9]\n",
      "[6, 8]\n"
     ]
    }
   ],
   "source": [
    "a=[1,3,5,7,9]\n",
    "print(a[2:4])\n",
    "b=[[1,3,5,7,9],[2,4,6,8,10]]\n",
    "print(b[0])\n",
    "print(b[1][2:4])\n"
   ]
  },
  {
   "cell_type": "code",
   "execution_count": 46,
   "metadata": {},
   "outputs": [
    {
     "name": "stdout",
     "output_type": "stream",
     "text": [
      "[1, 3, 5, 7, 9, 3, 5, 6, 7, 9]\n"
     ]
    }
   ],
   "source": [
    "a=[1,3,5,7,9]\n",
    "b=[3,5,6,7,9]\n",
    "c=a+b\n",
    "print (c)"
   ]
  },
  {
   "cell_type": "code",
   "execution_count": 50,
   "metadata": {},
   "outputs": [
    {
     "name": "stdout",
     "output_type": "stream",
     "text": [
      "[ 4  8 11 14 18]\n"
     ]
    },
    {
     "data": {
      "text/plain": [
       "(5,)"
      ]
     },
     "execution_count": 50,
     "metadata": {},
     "output_type": "execute_result"
    }
   ],
   "source": [
    "#as vectors from list\n",
    "import numpy\n",
    "a=numpy.array([1,3,5,7,9])\n",
    "b=numpy.array([3,5,6,7,9])\n",
    "c=a+b\n",
    "print(c)\n",
    "type(c)\n",
    "c.shape\n"
   ]
  },
  {
   "cell_type": "code",
   "execution_count": 56,
   "metadata": {},
   "outputs": [
    {
     "name": "stdout",
     "output_type": "stream",
     "text": [
      "[[1, 2, 3], [3, 6, 9], [2, 4, 6]]\n",
      "[[1 2 3]\n",
      " [3 6 9]\n",
      " [2 4 6]]\n",
      "int64\n"
     ]
    }
   ],
   "source": [
    "\n",
    "import numpy\n",
    "l=[[1,2,3],[3,6,9],[2,4,6]]  # create a list\n",
    "print(l)\n",
    "a=numpy.array(l) #convert a list to an array\n",
    "print(a)\n",
    "a.shape\n",
    "print(a.dtype)   #get type of an array\n",
    "\n"
   ]
  },
  {
   "cell_type": "code",
   "execution_count": 67,
   "metadata": {},
   "outputs": [
    {
     "name": "stdout",
     "output_type": "stream",
     "text": [
      "(2, 2)\n",
      "[[1.+0.j 2.+0.j]\n",
      " [3.+0.j 4.+0.j]]\n"
     ]
    }
   ],
   "source": [
    "import numpy as np\n",
    "#or directly as matrix\n",
    "m=np.array([[1,2],[2,4]])\n",
    "print(m.shape)\n",
    "m.dtype\n",
    "#m[0,0]=\"hello\"\n",
    "m=numpy.array([[1,2],[3,4]],dtype=complex)\n",
    "print(m)"
   ]
  },
  {
   "cell_type": "code",
   "execution_count": 68,
   "metadata": {},
   "outputs": [
    {
     "name": "stdout",
     "output_type": "stream",
     "text": [
      "[1 2 3]\n",
      "9\n",
      "[6 9]\n",
      "[2 6 4]\n",
      "[[1 2 3]\n",
      " [3 6 7]\n",
      " [2 4 6]]\n",
      "[[0 2 3]\n",
      " [9 6 7]\n",
      " [8 4 6]]\n"
     ]
    }
   ],
   "source": [
    "import numpy as np\n",
    "a=np.array([(1,2,3),(3,6,9),(2,4,6)])\n",
    "print(a[0])   #like list of list\n",
    "print(a[1,2])  #comma separated indices\n",
    "print(a[1,1:3])  #slicing\n",
    "print(a[:,1])\n",
    "a[1,2]=7\n",
    "print(a)\n",
    "a[:,0]=[0,9,8]\n",
    "print(a)\n"
   ]
  },
  {
   "cell_type": "code",
   "execution_count": 74,
   "metadata": {},
   "outputs": [
    {
     "name": "stdout",
     "output_type": "stream",
     "text": [
      "[0 1 2 3 4 5 6 7 8 9]\n"
     ]
    },
    {
     "data": {
      "text/plain": [
       "array([ 0.        ,  0.41666667,  0.83333333,  1.25      ,  1.66666667,\n",
       "        2.08333333,  2.5       ,  2.91666667,  3.33333333,  3.75      ,\n",
       "        4.16666667,  4.58333333,  5.        ,  5.41666667,  5.83333333,\n",
       "        6.25      ,  6.66666667,  7.08333333,  7.5       ,  7.91666667,\n",
       "        8.33333333,  8.75      ,  9.16666667,  9.58333333, 10.        ])"
      ]
     },
     "execution_count": 74,
     "metadata": {},
     "output_type": "execute_result"
    }
   ],
   "source": [
    "import numpy as np\n",
    "x=np.arange(0,10,1)   #start,stop,step\n",
    "print(x)\n",
    "np.linspace(0,10,25)\n",
    "#np.logspace(0,10,10,base=np.e)"
   ]
  },
  {
   "cell_type": "code",
   "execution_count": 79,
   "metadata": {},
   "outputs": [
    {
     "name": "stdout",
     "output_type": "stream",
     "text": [
      "[0. 0. 0. 0. 0.]\n",
      "float64\n",
      "[[1. 1. 1.]\n",
      " [1. 1. 1.]\n",
      " [1. 1. 1.]]\n"
     ]
    }
   ],
   "source": [
    "import numpy as np\n",
    "#a dimensional matrix\n",
    "np.diag([1,2,3])\n",
    "\n",
    "b=np.zeros(5)\n",
    "print(b)\n",
    "print(b.dtype)\n",
    "n=1000\n",
    "my_int_array=np.zeros(n,dtype=np.int)\n",
    "my_int_array.dtype\n",
    "c=np.ones((3,3))\n",
    "print(c)"
   ]
  },
  {
   "cell_type": "code",
   "execution_count": 91,
   "metadata": {},
   "outputs": [
    {
     "name": "stdout",
     "output_type": "stream",
     "text": [
      "[ 0  2  4  6  8 10 12 14 16 18]\n",
      "[ 0 15  4  6  8 10 12 14 16 18]\n"
     ]
    }
   ],
   "source": [
    "import numpy as np\n",
    "x=np.arange(0,20,2)   #start,stop,step\n",
    "print(x)\n",
    "x[1]=15\n",
    "print(x)"
   ]
  },
  {
   "cell_type": "code",
   "execution_count": 93,
   "metadata": {},
   "outputs": [
    {
     "name": "stdout",
     "output_type": "stream",
     "text": [
      "[[0 0 0 0 0]\n",
      " [1 1 1 1 1]\n",
      " [2 2 2 2 2]\n",
      " [3 3 3 3 3]\n",
      " [4 4 4 4 4]]\n"
     ]
    },
    {
     "data": {
      "text/plain": [
       "array([[0.28241747, 0.12369084, 0.11737042, 0.62266312, 0.06469406],\n",
       "       [0.19431955, 0.34808794, 0.43835508, 0.66536282, 0.85344021],\n",
       "       [0.52938792, 0.52482835, 0.15615433, 0.71746701, 0.83872952],\n",
       "       [0.04450593, 0.07599427, 0.96733179, 0.49941195, 0.94074381],\n",
       "       [0.57464874, 0.60071829, 0.83080539, 0.35524804, 0.43422928]])"
      ]
     },
     "execution_count": 93,
     "metadata": {},
     "output_type": "execute_result"
    }
   ],
   "source": [
    "import numpy\n",
    "x,y=numpy.mgrid[0:5,0:5] #similar to meshgrid in MATLAB\n",
    "print(x)\n",
    "#random data\n",
    "numpy.random.rand(5,5)"
   ]
  },
  {
   "cell_type": "code",
   "execution_count": 98,
   "metadata": {},
   "outputs": [
    {
     "name": "stdout",
     "output_type": "stream",
     "text": [
      "[[0.16595866 0.7223206  0.19244337]\n",
      " [0.15874851 0.93931104 0.93020602]\n",
      " [0.67211781 0.43940739 0.26834635]]\n"
     ]
    },
    {
     "data": {
      "text/plain": [
       "array([[0.16595866, 0.7223206 , 0.19244337],\n",
       "       [0.15874851, 0.93931104, 0.93020602],\n",
       "       [0.67211781, 0.43940739, 0.26834635]])"
      ]
     },
     "execution_count": 98,
     "metadata": {},
     "output_type": "execute_result"
    }
   ],
   "source": [
    "import numpy\n",
    "m=numpy.random.rand(3,3)\n",
    "print(m)\n",
    "numpy.save('saved-matrix.npy',m)\n",
    "numpy.load('saved-matrix.npy')\n",
    "#os.system('head saved-matrix.npy')"
   ]
  },
  {
   "cell_type": "code",
   "execution_count": 108,
   "metadata": {},
   "outputs": [
    {
     "name": "stdout",
     "output_type": "stream",
     "text": [
      "140199614087040 140199614087040\n",
      "[9 2 3 4]\n",
      "140199614087040 140199614086880\n",
      "[8 2 3 4]\n",
      "140199614406704\n",
      "140199614086720\n",
      "[9 2 3 4]\n",
      "[1 2 3 4]\n"
     ]
    }
   ],
   "source": [
    "import numpy\n",
    "x=np.array([1,2,3,4])\n",
    "y=x\n",
    "x is y\n",
    "\n",
    "print(id(x),id(y))\n",
    "\n",
    "x[0]=9\n",
    "print(y)\n",
    "\n",
    "x[0]=1\n",
    "z=x[:]\n",
    "x is z\n",
    "\n",
    "print(id(x),id(z))\n",
    "\n",
    "x[0]=8\n",
    "print(z)\n",
    "\n",
    "x=np.array([1,2,3,4])\n",
    "y=x.copy()\n",
    "x is y\n",
    "\n",
    "print(id(x))\n",
    "print(id(y))\n",
    "\n",
    "x[0]=9\n",
    "print(x)\n",
    "\n",
    "print(y)"
   ]
  },
  {
   "cell_type": "code",
   "execution_count": 6,
   "metadata": {},
   "outputs": [
    {
     "name": "stdout",
     "output_type": "stream",
     "text": [
      "[10.   21.7  25.6  27.55]\n",
      "[105 125 150 175 195]\n",
      "[False False  True False False  True False False  True False]\n",
      "[12 15 18]\n"
     ]
    }
   ],
   "source": [
    "import numpy\n",
    "a=numpy.arange(4.0)\n",
    "b=a*23.4\n",
    "c=b/(a+1)\n",
    "c+=10\n",
    "print(c)\n",
    "\n",
    "arr=numpy.arange(100,200)\n",
    "select=[5,25,50,75,-5]\n",
    "print(arr[select])  #can use integer lists as indices\n",
    "\n",
    "\n",
    "arr=numpy.arange(10,20)\n",
    "div_by_3=arr%3==0   #comparison produces boolean array\n",
    "print(div_by_3)\n",
    "\n",
    "print(arr[div_by_3]) #can use boolean lists as indices \n",
    "\n",
    "arr=numpy.arange(10,20).reshape((2,5))"
   ]
  },
  {
   "cell_type": "code",
   "execution_count": 8,
   "metadata": {},
   "outputs": [
    {
     "data": {
      "text/plain": [
       "(array([2, 5, 8]),)"
      ]
     },
     "execution_count": 8,
     "metadata": {},
     "output_type": "execute_result"
    }
   ],
   "source": [
    "import numpy\n",
    "arr.sum()\n",
    "\n",
    "arr.mean()\n",
    "\n",
    "arr.std()\n",
    "\n",
    "arr.max()\n",
    "\n",
    "arr.min()\n",
    "\n",
    "div_by_3.all()\n",
    "\n",
    "div_by_3.any()\n",
    "\n",
    "div_by_3.sum()\n",
    "\n",
    "div_by_3.nonzero()"
   ]
  },
  {
   "cell_type": "code",
   "execution_count": 11,
   "metadata": {},
   "outputs": [
    {
     "name": "stdout",
     "output_type": "stream",
     "text": [
      "[ True False False False False  True False False False False]\n",
      "[10 15]\n"
     ]
    },
    {
     "data": {
      "text/plain": [
       "2"
      ]
     },
     "execution_count": 11,
     "metadata": {},
     "output_type": "execute_result"
    }
   ],
   "source": [
    "import numpy\n",
    "a=numpy.arange(0,100)\n",
    "div_by_5=arr%5==0   #comparison produces boolean array\n",
    "print(div_by_5)\n",
    "print(arr[div_by_5])\n",
    "arr.sum()\n",
    "\n",
    "arr.mean()\n",
    "\n",
    "arr.std()\n",
    "\n",
    "arr.max()\n",
    "\n",
    "arr.min()\n",
    "\n",
    "div_by_5.all()\n",
    "\n",
    "div_by_5.any()\n",
    "\n",
    "div_by_5.sum()\n"
   ]
  },
  {
   "cell_type": "code",
   "execution_count": 22,
   "metadata": {},
   "outputs": [
    {
     "name": "stdout",
     "output_type": "stream",
     "text": [
      "[1.2 1.8 2.3 4.5 5.5 6.7]\n",
      "[4.5 2.3 6.7 1.2 1.8 5.5]\n",
      "[3 4 1 0 5 2]\n",
      "[1.2 1.8 2.3 4.5 5.5 6.7]\n"
     ]
    },
    {
     "data": {
      "text/plain": [
       "22.0"
      ]
     },
     "execution_count": 22,
     "metadata": {},
     "output_type": "execute_result"
    }
   ],
   "source": [
    "#sorting\n",
    "import numpy\n",
    "arr=numpy.array([4.5,2.3,6.7,1.2,1.8,5.5])\n",
    "arr.sort()   #acts on array itself\n",
    "print(arr)\n",
    "\n",
    "x=numpy.array([4.5,2.3,6.7,1.2,1.8,5.5])\n",
    "numpy.sort(x)\n",
    "\n",
    "print(x)\n",
    "\n",
    "s=x.argsort()   #accor to index position it will sort\n",
    "print(s)\n",
    "print(x[s])\n",
    "#print(y[s])\n",
    "arr.sum()\n",
    "numpy.sum(arr)"
   ]
  },
  {
   "cell_type": "code",
   "execution_count": 35,
   "metadata": {},
   "outputs": [
    {
     "name": "stdout",
     "output_type": "stream",
     "text": [
      "[[4. 7.]\n",
      " [4. 3.]]\n",
      "[[-0.1875  0.4375]\n",
      " [ 0.25   -0.25  ]]\n"
     ]
    },
    {
     "data": {
      "text/plain": [
       "array([[-1.,  0.],\n",
       "       [ 0., -1.]])"
      ]
     },
     "execution_count": 35,
     "metadata": {},
     "output_type": "execute_result"
    }
   ],
   "source": [
    "#array operations\n",
    "import numpy as np\n",
    "a=np.array([[4,7],[4.0,3.0]])\n",
    "print(a)\n",
    "\n",
    "a.transpose()\n",
    "\n",
    "print(np.linalg.inv(a))\n",
    "\n",
    "#u=eye(2)  #unit 2*2 matrix;\"eye\" represents \"I\"\n",
    "\n",
    "#print(u)\n",
    "\n",
    "j=np.array([[0.0,-1.0],[1.0,0.0]])\n",
    "np.dot(j,j)  #matrix product\n",
    "\n"
   ]
  },
  {
   "cell_type": "code",
   "execution_count": 41,
   "metadata": {},
   "outputs": [
    {
     "name": "stdout",
     "output_type": "stream",
     "text": [
      "[[1 2]\n",
      " [3 4]]\n",
      "[[1 2]\n",
      " [3 4]]\n",
      "[[1 2]\n",
      " [3 4]]\n",
      "[[1 2]\n",
      " [3 4]]\n"
     ]
    }
   ],
   "source": [
    "#arrays and matrices\n",
    "import numpy\n",
    "m=numpy.mat([[1,2],[3,4]])\n",
    "print(m)\n",
    "  #or\n",
    "a=numpy.array([[1,2],[3,4]])\n",
    "print(a)\n",
    "m=numpy.mat(a)\n",
    "print(m)\n",
    "\n",
    "#or\n",
    "a=numpy.array([[1,2],[3,4]])\n",
    "m=numpy.asmatrix(a)\n",
    "print(m)"
   ]
  },
  {
   "cell_type": "code",
   "execution_count": 53,
   "metadata": {},
   "outputs": [
    {
     "name": "stdout",
     "output_type": "stream",
     "text": [
      "[1 0]\n",
      "[[1 2]]\n",
      "[[1 0]\n",
      " [1 0]]\n",
      "[[ 7 10]\n",
      " [15 22]]\n",
      "[[1 0]\n",
      " [1 0]]\n",
      "[[ 37  54]\n",
      " [ 81 118]]\n",
      "[[1 3]\n",
      " [2 4]]\n",
      "[[1 3]\n",
      " [2 4]]\n",
      "[[-2.   1. ]\n",
      " [ 1.5 -0.5]]\n"
     ]
    }
   ],
   "source": [
    "#numpy-matrices\n",
    "import numpy as np\n",
    "a=np.array([[1,2],[3,4]])\n",
    "m=np.mat(a)    #convert cd array to matrix\n",
    "m=np.matrix([[1,2],[3,4]])\n",
    "print(a[0])   #result is 1d\n",
    "print(m[0])    #result is 2d\n",
    "\n",
    "print(a*a)    #ele by ele  multiplication\n",
    "\n",
    "print(m*m)   #algebraic matrix mul\n",
    "\n",
    "print(a**3)   #elewise power\n",
    "\n",
    "print(m**3)  #mat mul m*m*m\n",
    "\n",
    "print(m.T)     #transpose \n",
    "\n",
    "print(m.H)     #conjugate transpose differs from .T for complex matrices\n",
    "\n",
    "print(m.I)    #inverse matrix"
   ]
  },
  {
   "cell_type": "code",
   "execution_count": 56,
   "metadata": {},
   "outputs": [
    {
     "name": "stdout",
     "output_type": "stream",
     "text": [
      "[6. 4. 9.]\n",
      "[-4.  0. -3.]\n",
      "[ 5.  4. 18.]\n",
      "[5. 1. 2.]\n",
      "[1. 0. 3.]\n",
      "[  5.   4. 216.]\n",
      "[[1. 2.]\n",
      " [3. 4.]\n",
      " [5. 6.]]\n",
      "[-1.  3.]\n",
      "[[0. 5.]\n",
      " [2. 7.]\n",
      " [4. 9.]]\n",
      "[[ 1.  4.]\n",
      " [ 9. 16.]\n",
      " [25. 36.]]\n",
      "[1. 9.]\n",
      "[[-1.  6.]\n",
      " [-3. 12.]\n",
      " [-5. 18.]]\n"
     ]
    }
   ],
   "source": [
    "#addition\n",
    "import numpy as np\n",
    "a=np.array([1,2,3],float)\n",
    "b=np.array([5,2,6],float)\n",
    "print(a+b)\n",
    "print(a-b)\n",
    "print(a*b)\n",
    "print(b/a)\n",
    "print(a%b)\n",
    "print(b**a)\n",
    "\n",
    "a=np.array([[1,2],[3,4],[5,6]],float)\n",
    "b=np.array([-1,3],float)\n",
    "print(a)\n",
    "\n",
    "print(b)\n",
    "\n",
    "print(a+b)\n",
    "\n",
    "print(a*a)\n",
    "print(b*b)\n",
    "print(a*b)\n",
    "\n",
    "\n"
   ]
  },
  {
   "cell_type": "code",
   "execution_count": null,
   "metadata": {},
   "outputs": [],
   "source": []
  }
 ],
 "metadata": {
  "kernelspec": {
   "display_name": "Python 3",
   "language": "python",
   "name": "python3"
  },
  "language_info": {
   "codemirror_mode": {
    "name": "ipython",
    "version": 3
   },
   "file_extension": ".py",
   "mimetype": "text/x-python",
   "name": "python",
   "nbconvert_exporter": "python",
   "pygments_lexer": "ipython3",
   "version": "3.6.7"
  }
 },
 "nbformat": 4,
 "nbformat_minor": 2
}
