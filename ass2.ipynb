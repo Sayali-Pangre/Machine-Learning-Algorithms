{
 "cells": [
  {
   "cell_type": "code",
   "execution_count": 5,
   "metadata": {},
   "outputs": [
    {
     "name": "stdout",
     "output_type": "stream",
     "text": [
      "2002,2009,2016,2023,2037,2044,2051,2058,2072,2079,2086,2093,2107,2114,2121,2128,2142,2149,2156,2163,2177,2184,2191,2198,2212,2219,2226,2233,2247,2254,2261,2268,2282,2289,2296,2303,2317,2324,2331,2338,2352,2359,2366,2373,2387,2394,2401,2408,2422,2429,2436,2443,2457,2464,2471,2478,2492,2499,2506,2513,2527,2534,2541,2548,2562,2569,2576,2583,2597,2604,2611,2618,2632,2639,2646,2653,2667,2674,2681,2688,2702,2709,2716,2723,2737,2744,2751,2758,2772,2779,2786,2793,2807,2814,2821,2828,2842,2849,2856,2863,2877,2884,2891,2898,2912,2919,2926,2933,2947,2954,2961,2968,2982,2989,2996,3003,3017,3024,3031,3038,3052,3059,3066,3073,3087,3094,3101,3108,3122,3129,3136,3143,3157,3164,3171,3178,3192,3199\n"
     ]
    }
   ],
   "source": [
    "#1\n",
    "l=[]\n",
    "for i in range(2000,3200):\n",
    "    if(i%7==0) and (i%5!=0):\n",
    "        l.append(str(i))\n",
    "print(','.join(l))\n",
    "    "
   ]
  },
  {
   "cell_type": "code",
   "execution_count": 11,
   "metadata": {},
   "outputs": [
    {
     "name": "stdout",
     "output_type": "stream",
     "text": [
      "600\n",
      "400\n",
      "500\n"
     ]
    }
   ],
   "source": [
    "#2\n",
    "def f1():\n",
    "    d=100\n",
    "    w=200\n",
    "d=300\n",
    "w=200\n",
    "d1=300+300\n",
    "print(d1)\n",
    "d2=d1-w\n",
    "print(d2)\n",
    "d3=d2+100\n",
    "print(d3)"
   ]
  },
  {
   "cell_type": "code",
   "execution_count": 7,
   "metadata": {},
   "outputs": [
    {
     "name": "stdout",
     "output_type": "stream",
     "text": [
      "Enter the sequence of words:ar,va,fd\n",
      "va,fd,ar\n"
     ]
    }
   ],
   "source": [
    "#3\n",
    "#l=[a]\n",
    "a=str(input(\"Enter the sequence of words:\"))\n",
    "a=a.split(',')\n",
    "a=(sorted(a,reverse=True))\n",
    "print(','.join(a))\n",
    "\n",
    "\n"
   ]
  },
  {
   "cell_type": "code",
   "execution_count": 51,
   "metadata": {},
   "outputs": [
    {
     "name": "stdout",
     "output_type": "stream",
     "text": [
      "Enter the string:hello123\n",
      "hello123\n",
      "Letters: 5\n",
      "Digits: 3\n"
     ]
    }
   ],
   "source": [
    "#4\n",
    "a=input(\"Enter the string:\")\n",
    "print(a)\n",
    "\n",
    "digit=0\n",
    "letter=0\n",
    "for i in a:\n",
    "    if i.isalpha():\n",
    "        letter=letter+1\n",
    "    \n",
    "    elif i.isdigit():\n",
    "        digit=digit+1\n",
    "        \n",
    "    else:\n",
    "        pass\n",
    "    \n",
    "print(\"Letters:\",letter)\n",
    "print(\"Digits:\",digit)    \n",
    "    \n",
    "\n",
    "\n"
   ]
  },
  {
   "cell_type": "code",
   "execution_count": 61,
   "metadata": {},
   "outputs": [
    {
     "name": "stdout",
     "output_type": "stream",
     "text": [
      "{1: 1, 2: 4, 3: 9}\n"
     ]
    }
   ],
   "source": [
    "#5\n",
    "#a=int(input(\"Enyer the number:\"))\n",
    "d=dict()\n",
    "\n",
    "for x in range(1,4):\n",
    "    d[x]=x*x\n",
    "print(d)"
   ]
  },
  {
   "cell_type": "code",
   "execution_count": 7,
   "metadata": {},
   "outputs": [
    {
     "name": "stdout",
     "output_type": "stream",
     "text": [
      "Enter the sentence:Hello world Practice makes perfect\n",
      "Hello world Practice makes perfect\n",
      "HELLO WORLD PRACTICE MAKES PERFECT\n"
     ]
    }
   ],
   "source": [
    "#7\n",
    "a=str(input(\"Enter the sentence:\"))\n",
    "print (a)\n",
    "b=str.upper(a)\n",
    "print(b)"
   ]
  },
  {
   "cell_type": "code",
   "execution_count": 13,
   "metadata": {},
   "outputs": [
    {
     "name": "stdout",
     "output_type": "stream",
     "text": [
      "{1, 2, 3, 5, 8, 13}\n"
     ]
    }
   ],
   "source": [
    "#8\n",
    "a = [1, 1, 2, 3, 5, 8, 13, 21, 34, 55, 89]\n",
    "b = [1, 2, 3, 4, 5, 6, 7, 8, 9, 10, 11, 12, 13]\n",
    "c=set(a) & set(b)\n",
    "print(c)"
   ]
  },
  {
   "cell_type": "code",
   "execution_count": 21,
   "metadata": {},
   "outputs": [
    {
     "name": "stdout",
     "output_type": "stream",
     "text": [
      "Enter the row values:5\n",
      "Enter the column values:7\n",
      "[[0, 0, 0, 0, 0, 0, 0], [0, 1, 2, 3, 4, 5, 6], [0, 2, 4, 6, 8, 10, 12], [0, 3, 6, 9, 12, 15, 18], [0, 4, 8, 12, 16, 20, 24]]\n"
     ]
    }
   ],
   "source": [
    "#assignment3\n",
    "#1\n",
    "row_num=int(input(\"Enter the row values:\"))\n",
    "col_num=int(input(\"Enter the column values:\"))\n",
    "rc=[[0 for col in range(col_num)] for row in range(row_num)]\n",
    "\n",
    "for row in range(row_num):\n",
    "    for col in range(col_num):\n",
    "        rc[row][col]=row*col\n",
    "print(rc)\n",
    "    \n",
    "    "
   ]
  },
  {
   "cell_type": "code",
   "execution_count": 4,
   "metadata": {},
   "outputs": [
    {
     "name": "stdout",
     "output_type": "stream",
     "text": [
      "Enter the number:9\n",
      "9\n",
      "11106\n"
     ]
    }
   ],
   "source": [
    "#2\n",
    "num=int(input(\"Enter the number:\"))\n",
    "print(num)\n",
    "a=num*10\n",
    "b=num*100\n",
    "c=num*1000\n",
    "#num+((num*10)+num)+((num*100)+(num*10)+num)+((num*1000)+(num*100)+(num*100)+num)\n",
    "#num+(a+num)+(b+a+num)+(c+a+num)\n",
    "print((4*num)+(3*a)+(2*b)+(c))\n",
    "\n"
   ]
  },
  {
   "cell_type": "code",
   "execution_count": null,
   "metadata": {},
   "outputs": [],
   "source": [
    "#3\n",
    "username=str(input(\"Enter the User Name:\"))\n",
    "passwd=input(\"Enter the Password:\")\n",
    "for paaswd in range(a,z):\n",
    "    for passwd in range(A,Z):\n",
    "        for passwd in range(0,9):\n",
    "            "
   ]
  },
  {
   "cell_type": "code",
   "execution_count": 2,
   "metadata": {},
   "outputs": [
    {
     "name": "stdout",
     "output_type": "stream",
     "text": [
      "Enter comma-separated passwords: $@Y@Li123,PR@j@kta12,vaish123\n",
      "\n"
     ]
    }
   ],
   "source": [
    "special_str = \"$#@\"\n",
    "accepted = []\n",
    "\n",
    "passwords = input(\"Enter comma-separated passwords: \").split(',')\n",
    "\n",
    "for password in passwords:\n",
    "    lower = 0\n",
    "    upper = 0\n",
    "    digits = 0\n",
    "    special = 0\n",
    "\n",
    "for char in password:\n",
    "\n",
    "    if char.islower():\n",
    "        lower += 1\n",
    "    elif char.isupper():\n",
    "        upper += 1\n",
    "    elif char.isdigit():\n",
    "        digits += 1\n",
    "    elif special_str.find(char) != -1:\n",
    "        special += 1\n",
    "\n",
    "if lower >= 1 and upper >= 1 and digits >= 1 and special >= 1 and len(password) in range(6,13):\n",
    "        accepted.append(password)\n",
    "print (\",\".join(accepted))\n",
    "\n",
    "\n"
   ]
  },
  {
   "cell_type": "code",
   "execution_count": null,
   "metadata": {},
   "outputs": [],
   "source": [
    "#4\n",
    "t1=[]"
   ]
  },
  {
   "cell_type": "code",
   "execution_count": null,
   "metadata": {},
   "outputs": [],
   "source": []
  }
 ],
 "metadata": {
  "kernelspec": {
   "display_name": "Python 3",
   "language": "python",
   "name": "python3"
  },
  "language_info": {
   "codemirror_mode": {
    "name": "ipython",
    "version": 3
   },
   "file_extension": ".py",
   "mimetype": "text/x-python",
   "name": "python",
   "nbconvert_exporter": "python",
   "pygments_lexer": "ipython3",
   "version": "3.6.7"
  }
 },
 "nbformat": 4,
 "nbformat_minor": 2
}
