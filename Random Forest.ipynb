{
 "cells": [
  {
   "cell_type": "code",
   "execution_count": 2,
   "metadata": {},
   "outputs": [],
   "source": [
    "\n",
    "#sklearn.ssklearn.ensemble.RandomForestClassifier(n_estimators='warn',criterion='gini',max_depth=None\n",
    "#                                                n_estimators=no.of.tree samples by default=10,max_depth=depth of each tree\n",
    " #                                               criterion=gini(impurity criteria=gini,training criteria=entropy and information gain))"
   ]
  },
  {
   "cell_type": "code",
   "execution_count": null,
   "metadata": {},
   "outputs": [],
   "source": [
    "import numpy as np\n",
    "import pandas as pd\n",
    "import seaborn as sns\n",
    "import matplotlib.pyplot as plt\n",
    "%matplotlib inline\n",
    "import graphviz\n",
    "import sklearn as sk\n",
    "from sklearn import ensemble\n",
    "from collections import Counter\n",
    "import os\n",
    "#for each document in training set crete a frequency matrix for this words in dictionary and corresponding labels\n",
    "def make_dict(root_dir):\n",
    "    all_words=[]\n",
    "    emails=[os.path.join(root_dir,f)\n",
    "           for f in os.listdir(root_dir)]\n",
    "    for mail in emails:\n",
    "        with open(mail) as m:\n",
    "            for line in m:\n",
    "                words=line.split(' ')\n",
    "                all_words+=words\n",
    "    dictionary=Counter(all_words)\n",
    "    list_to_remove=list(dictionary)\n",
    "\n",
    "    #print(list_to_remove)\n",
    "    \n",
    "    for item in list_to_remove:\n",
    "        if item.isalpha()==False:\n",
    "            del dictionary[item]\n",
    "        elif len(item)==1:\n",
    "            del dictionary[item]\n",
    "        dictionary=dictionary.most_common(3000)\n",
    "        return dictionary\n",
    "TRAIN_DIR=\"/home/dell/Desktop/train-mails\"\n",
    "TEST_DIR=\"/home/dell/Desktop/test-mails\"\n",
    "dictionary=make_dict(TRAIN_DIR)\n",
    "print(dictionary)\n",
    "        \n",
    "\n",
    "    "
   ]
  },
  {
   "cell_type": "code",
   "execution_count": null,
   "metadata": {},
   "outputs": [],
   "source": [
    "def extract_features(mail_dir):\n",
    "    files=[os.path.join(mail_dir,fi) for fi in os.listdir(mail_dir)]\n",
    "    features_matrix=np.zeros((len(files),3000))\n",
    "    train_labels=np.zeros(len(files))\n",
    "    count=0;\n",
    "    docID=0;\n",
    "    for fil in files:\n",
    "        with open(fil) as fi:\n",
    "            for i,line in enumerate(fi):\n",
    "                if i==2:\n",
    "                    words=line.split()\n",
    "                    for word in words:\n",
    "                        wordID=0\n",
    "                        for i,d in enumerate(dictionary):\n",
    "                            if d[0]==word:\n",
    "                                wordID=i\n",
    "                                features_matrix[docID,wordID]=words.count(word)\n",
    "            train_labels[docID]=0\n",
    "            filepathTokens=fil.split('/')\n",
    "            lastToken=filepathTokens[len(filepathTokens)-1]\n",
    "            if lastToken.startswith(\"spmsg\"):\n",
    "                train_labels[docID]=1\n",
    "                count=count+1\n",
    "            docID=docID+1\n",
    "    return features_matrix,train_labels\n",
    "TRAIN_DIR=\"/home/dell/Desktop/train-mails\"\n",
    "TEST_DIR=\"/home/dell/Desktop/train-mails\"\n",
    "extract_features(TRAIN_DIR)\n",
    "features_matrix,labels=extract_features(TRAIN_DIR)\n",
    "print(features_matrix,labels)"
   ]
  },
  {
   "cell_type": "code",
   "execution_count": null,
   "metadata": {},
   "outputs": [],
   "source": [
    "from sklearn import tree\n",
    "from sklearn.metrics import accuracy_score\n",
    "TRAIN_DIR=\"/home/dell/Desktop/train-mails\"\n",
    "TEST_DIR=\"/home/dell/Desktop/train-mails\"\n",
    "dictionary=make_dict(TRAIN_DIR)\n",
    "print(\"Reading and processing emails from file.\")\n",
    "features_matrix,labels=extract_features(TRAIN_DIR)\n",
    "test_feature_matrix,test_labels=extract_features(TEST_DIR)\n",
    "model=tree.DecisionTreeClassifier()\n",
    "print(\"Training model\")\n",
    "#train model\n",
    "model.fit(features_matrix,labels)\n",
    "predicted_labels=model.predict(test_feature_matrix)\n",
    "print(\"Finished classifying.accuracy score:\")\n",
    "print(accuracy_score(test_labels,predicted_labels))"
   ]
  },
  {
   "cell_type": "code",
   "execution_count": null,
   "metadata": {},
   "outputs": [],
   "source": []
  },
  {
   "cell_type": "code",
   "execution_count": null,
   "metadata": {},
   "outputs": [],
   "source": []
  }
 ],
 "metadata": {
  "kernelspec": {
   "display_name": "Python 3",
   "language": "python",
   "name": "python3"
  },
  "language_info": {
   "codemirror_mode": {
    "name": "ipython",
    "version": 3
   },
   "file_extension": ".py",
   "mimetype": "text/x-python",
   "name": "python",
   "nbconvert_exporter": "python",
   "pygments_lexer": "ipython3",
   "version": "3.7.0"
  }
 },
 "nbformat": 4,
 "nbformat_minor": 2
}
